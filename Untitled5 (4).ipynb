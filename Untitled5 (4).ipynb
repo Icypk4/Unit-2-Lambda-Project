{
  "nbformat": 4,
  "nbformat_minor": 0,
  "metadata": {
    "colab": {
      "name": "Untitled5.ipynb",
      "provenance": [],
      "collapsed_sections": []
    },
    "kernelspec": {
      "name": "python3",
      "display_name": "Python 3"
    },
    "language_info": {
      "name": "python"
    }
  },
  "cells": [
    {
      "cell_type": "code",
      "metadata": {
        "colab": {
          "base_uri": "https://localhost:8080/",
          "height": 1000
        },
        "id": "tpMnuLxUH909",
        "outputId": "a71c2c2c-ab71-4497-9a25-6f249d6029c2"
      },
      "source": [
        "!pip install category_encoders==2.*\n",
        "!pip install pandas-profiling==2.*\n",
        "from sklearn.metrics import mean_absolute_error as mae\n",
        "from sklearn.model_selection import train_test_split\n",
        "from sklearn.pipeline import make_pipeline\n",
        "from category_encoders import OneHotEncoder, OrdinalEncoder\n",
        "from sklearn.preprocessing import StandardScaler\n",
        "from sklearn.impute import SimpleImputer\n",
        "from sklearn.linear_model import LogisticRegression,LinearRegression,Ridge\n",
        "from sklearn.metrics import accuracy_score\n",
        "from sklearn.tree import DecisionTreeClassifier, plot_tree\n",
        "from pandas_profiling import ProfileReport\n",
        "import matplotlib.pyplot as plt\n",
        "import pandas as pd\n",
        "import numpy as np\n",
        "import seaborn as sns\n",
        "from sklearn.ensemble import RandomForestClassifier\n",
        "from xgboost import XGBRegressor\n",
        "\n",
        "import matplotlib.pyplot as plt\n",
        "import warnings\n",
        "warnings.filterwarnings(action='ignore', category=FutureWarning, module='xgboost')\n",
        "!pip install pdpbox\n",
        "!pip install shap\n",
        "from pdpbox.pdp import pdp_isolate, pdp_plot, pdp_interact, pdp_interact_plot\n",
        "import shap"
      ],
      "execution_count": 1,
      "outputs": [
        {
          "output_type": "stream",
          "name": "stdout",
          "text": [
            "Collecting category_encoders==2.*\n",
            "  Downloading category_encoders-2.3.0-py2.py3-none-any.whl (82 kB)\n",
            "\u001b[?25l\r\u001b[K     |████                            | 10 kB 18.9 MB/s eta 0:00:01\r\u001b[K     |████████                        | 20 kB 12.8 MB/s eta 0:00:01\r\u001b[K     |████████████                    | 30 kB 6.9 MB/s eta 0:00:01\r\u001b[K     |████████████████                | 40 kB 6.2 MB/s eta 0:00:01\r\u001b[K     |████████████████████            | 51 kB 2.9 MB/s eta 0:00:01\r\u001b[K     |████████████████████████        | 61 kB 3.0 MB/s eta 0:00:01\r\u001b[K     |████████████████████████████    | 71 kB 2.8 MB/s eta 0:00:01\r\u001b[K     |███████████████████████████████▉| 81 kB 3.2 MB/s eta 0:00:01\r\u001b[K     |████████████████████████████████| 82 kB 170 kB/s \n",
            "\u001b[?25hRequirement already satisfied: statsmodels>=0.9.0 in /usr/local/lib/python3.7/dist-packages (from category_encoders==2.*) (0.10.2)\n",
            "Requirement already satisfied: scikit-learn>=0.20.0 in /usr/local/lib/python3.7/dist-packages (from category_encoders==2.*) (0.22.2.post1)\n",
            "Requirement already satisfied: numpy>=1.14.0 in /usr/local/lib/python3.7/dist-packages (from category_encoders==2.*) (1.19.5)\n",
            "Requirement already satisfied: scipy>=1.0.0 in /usr/local/lib/python3.7/dist-packages (from category_encoders==2.*) (1.4.1)\n",
            "Requirement already satisfied: pandas>=0.21.1 in /usr/local/lib/python3.7/dist-packages (from category_encoders==2.*) (1.1.5)\n",
            "Requirement already satisfied: patsy>=0.5.1 in /usr/local/lib/python3.7/dist-packages (from category_encoders==2.*) (0.5.2)\n",
            "Requirement already satisfied: python-dateutil>=2.7.3 in /usr/local/lib/python3.7/dist-packages (from pandas>=0.21.1->category_encoders==2.*) (2.8.2)\n",
            "Requirement already satisfied: pytz>=2017.2 in /usr/local/lib/python3.7/dist-packages (from pandas>=0.21.1->category_encoders==2.*) (2018.9)\n",
            "Requirement already satisfied: six in /usr/local/lib/python3.7/dist-packages (from patsy>=0.5.1->category_encoders==2.*) (1.15.0)\n",
            "Requirement already satisfied: joblib>=0.11 in /usr/local/lib/python3.7/dist-packages (from scikit-learn>=0.20.0->category_encoders==2.*) (1.0.1)\n",
            "Installing collected packages: category-encoders\n",
            "Successfully installed category-encoders-2.3.0\n",
            "Collecting pandas-profiling==2.*\n",
            "  Downloading pandas_profiling-2.13.0-py2.py3-none-any.whl (245 kB)\n",
            "\u001b[K     |████████████████████████████████| 245 kB 2.8 MB/s \n",
            "\u001b[?25hRequirement already satisfied: missingno>=0.4.2 in /usr/local/lib/python3.7/dist-packages (from pandas-profiling==2.*) (0.5.0)\n",
            "Collecting tangled-up-in-unicode>=0.0.6\n",
            "  Downloading tangled_up_in_unicode-0.2.0-py3-none-any.whl (4.7 MB)\n",
            "\u001b[K     |████████████████████████████████| 4.7 MB 46.0 MB/s \n",
            "\u001b[?25hCollecting confuse>=1.0.0\n",
            "  Downloading confuse-1.6.0-py2.py3-none-any.whl (23 kB)\n",
            "Requirement already satisfied: matplotlib>=3.2.0 in /usr/local/lib/python3.7/dist-packages (from pandas-profiling==2.*) (3.2.2)\n",
            "Requirement already satisfied: joblib in /usr/local/lib/python3.7/dist-packages (from pandas-profiling==2.*) (1.0.1)\n",
            "Requirement already satisfied: numpy>=1.16.0 in /usr/local/lib/python3.7/dist-packages (from pandas-profiling==2.*) (1.19.5)\n",
            "Requirement already satisfied: scipy>=1.4.1 in /usr/local/lib/python3.7/dist-packages (from pandas-profiling==2.*) (1.4.1)\n",
            "Collecting phik>=0.11.1\n",
            "  Downloading phik-0.12.0-cp37-cp37m-manylinux2010_x86_64.whl (675 kB)\n",
            "\u001b[K     |████████████████████████████████| 675 kB 59.6 MB/s \n",
            "\u001b[?25hCollecting requests>=2.24.0\n",
            "  Downloading requests-2.26.0-py2.py3-none-any.whl (62 kB)\n",
            "\u001b[K     |████████████████████████████████| 62 kB 783 kB/s \n",
            "\u001b[?25hRequirement already satisfied: tqdm>=4.48.2 in /usr/local/lib/python3.7/dist-packages (from pandas-profiling==2.*) (4.62.3)\n",
            "Requirement already satisfied: jinja2>=2.11.1 in /usr/local/lib/python3.7/dist-packages (from pandas-profiling==2.*) (2.11.3)\n",
            "Requirement already satisfied: pandas!=1.0.0,!=1.0.1,!=1.0.2,!=1.1.0,>=0.25.3 in /usr/local/lib/python3.7/dist-packages (from pandas-profiling==2.*) (1.1.5)\n",
            "Collecting htmlmin>=0.1.12\n",
            "  Downloading htmlmin-0.1.12.tar.gz (19 kB)\n",
            "Requirement already satisfied: attrs>=19.3.0 in /usr/local/lib/python3.7/dist-packages (from pandas-profiling==2.*) (21.2.0)\n",
            "Collecting visions[type_image_path]==0.7.1\n",
            "  Downloading visions-0.7.1-py3-none-any.whl (102 kB)\n",
            "\u001b[K     |████████████████████████████████| 102 kB 55.4 MB/s \n",
            "\u001b[?25hRequirement already satisfied: seaborn>=0.10.1 in /usr/local/lib/python3.7/dist-packages (from pandas-profiling==2.*) (0.11.2)\n",
            "Requirement already satisfied: bottleneck in /usr/local/lib/python3.7/dist-packages (from visions[type_image_path]==0.7.1->pandas-profiling==2.*) (1.3.2)\n",
            "Requirement already satisfied: networkx>=2.4 in /usr/local/lib/python3.7/dist-packages (from visions[type_image_path]==0.7.1->pandas-profiling==2.*) (2.6.3)\n",
            "Collecting multimethod==1.4\n",
            "  Downloading multimethod-1.4-py2.py3-none-any.whl (7.3 kB)\n",
            "Requirement already satisfied: Pillow in /usr/local/lib/python3.7/dist-packages (from visions[type_image_path]==0.7.1->pandas-profiling==2.*) (7.1.2)\n",
            "Collecting imagehash\n",
            "  Downloading ImageHash-4.2.1.tar.gz (812 kB)\n",
            "\u001b[K     |████████████████████████████████| 812 kB 27.0 MB/s \n",
            "\u001b[?25hRequirement already satisfied: pyyaml in /usr/local/lib/python3.7/dist-packages (from confuse>=1.0.0->pandas-profiling==2.*) (3.13)\n",
            "Requirement already satisfied: MarkupSafe>=0.23 in /usr/local/lib/python3.7/dist-packages (from jinja2>=2.11.1->pandas-profiling==2.*) (2.0.1)\n",
            "Requirement already satisfied: python-dateutil>=2.1 in /usr/local/lib/python3.7/dist-packages (from matplotlib>=3.2.0->pandas-profiling==2.*) (2.8.2)\n",
            "Requirement already satisfied: pyparsing!=2.0.4,!=2.1.2,!=2.1.6,>=2.0.1 in /usr/local/lib/python3.7/dist-packages (from matplotlib>=3.2.0->pandas-profiling==2.*) (2.4.7)\n",
            "Requirement already satisfied: kiwisolver>=1.0.1 in /usr/local/lib/python3.7/dist-packages (from matplotlib>=3.2.0->pandas-profiling==2.*) (1.3.2)\n",
            "Requirement already satisfied: cycler>=0.10 in /usr/local/lib/python3.7/dist-packages (from matplotlib>=3.2.0->pandas-profiling==2.*) (0.10.0)\n",
            "Requirement already satisfied: six in /usr/local/lib/python3.7/dist-packages (from cycler>=0.10->matplotlib>=3.2.0->pandas-profiling==2.*) (1.15.0)\n",
            "Requirement already satisfied: pytz>=2017.2 in /usr/local/lib/python3.7/dist-packages (from pandas!=1.0.0,!=1.0.1,!=1.0.2,!=1.1.0,>=0.25.3->pandas-profiling==2.*) (2018.9)\n",
            "Collecting scipy>=1.4.1\n",
            "  Downloading scipy-1.7.1-cp37-cp37m-manylinux_2_5_x86_64.manylinux1_x86_64.whl (28.5 MB)\n",
            "\u001b[K     |████████████████████████████████| 28.5 MB 47 kB/s \n",
            "\u001b[?25hRequirement already satisfied: certifi>=2017.4.17 in /usr/local/lib/python3.7/dist-packages (from requests>=2.24.0->pandas-profiling==2.*) (2021.5.30)\n",
            "Requirement already satisfied: urllib3<1.27,>=1.21.1 in /usr/local/lib/python3.7/dist-packages (from requests>=2.24.0->pandas-profiling==2.*) (1.24.3)\n",
            "Requirement already satisfied: idna<4,>=2.5 in /usr/local/lib/python3.7/dist-packages (from requests>=2.24.0->pandas-profiling==2.*) (2.10)\n",
            "Requirement already satisfied: charset-normalizer~=2.0.0 in /usr/local/lib/python3.7/dist-packages (from requests>=2.24.0->pandas-profiling==2.*) (2.0.6)\n",
            "Requirement already satisfied: PyWavelets in /usr/local/lib/python3.7/dist-packages (from imagehash->visions[type_image_path]==0.7.1->pandas-profiling==2.*) (1.1.1)\n",
            "Building wheels for collected packages: htmlmin, imagehash\n",
            "  Building wheel for htmlmin (setup.py) ... \u001b[?25l\u001b[?25hdone\n",
            "  Created wheel for htmlmin: filename=htmlmin-0.1.12-py3-none-any.whl size=27098 sha256=5bbf0b949308d09fa67b5557555d86a901d88fc61031976bed5536d323f5128b\n",
            "  Stored in directory: /root/.cache/pip/wheels/70/e1/52/5b14d250ba868768823940c3229e9950d201a26d0bd3ee8655\n",
            "  Building wheel for imagehash (setup.py) ... \u001b[?25l\u001b[?25hdone\n",
            "  Created wheel for imagehash: filename=ImageHash-4.2.1-py2.py3-none-any.whl size=295207 sha256=88da388fcdbc2016af457cf00fbe4d1a0868b256f968f26c6e4a58f0ad4bf4db\n",
            "  Stored in directory: /root/.cache/pip/wheels/4c/d5/59/5e3e297533ddb09407769762985d134135064c6831e29a914e\n",
            "Successfully built htmlmin imagehash\n",
            "Installing collected packages: tangled-up-in-unicode, scipy, multimethod, visions, imagehash, requests, phik, htmlmin, confuse, pandas-profiling\n",
            "  Attempting uninstall: scipy\n",
            "    Found existing installation: scipy 1.4.1\n",
            "    Uninstalling scipy-1.4.1:\n",
            "      Successfully uninstalled scipy-1.4.1\n",
            "  Attempting uninstall: requests\n",
            "    Found existing installation: requests 2.23.0\n",
            "    Uninstalling requests-2.23.0:\n",
            "      Successfully uninstalled requests-2.23.0\n",
            "  Attempting uninstall: pandas-profiling\n",
            "    Found existing installation: pandas-profiling 1.4.1\n",
            "    Uninstalling pandas-profiling-1.4.1:\n",
            "      Successfully uninstalled pandas-profiling-1.4.1\n",
            "\u001b[31mERROR: pip's dependency resolver does not currently take into account all the packages that are installed. This behaviour is the source of the following dependency conflicts.\n",
            "google-colab 1.0.0 requires requests~=2.23.0, but you have requests 2.26.0 which is incompatible.\n",
            "datascience 0.10.6 requires folium==0.2.1, but you have folium 0.8.3 which is incompatible.\n",
            "albumentations 0.1.12 requires imgaug<0.2.7,>=0.2.5, but you have imgaug 0.2.9 which is incompatible.\u001b[0m\n",
            "Successfully installed confuse-1.6.0 htmlmin-0.1.12 imagehash-4.2.1 multimethod-1.4 pandas-profiling-2.13.0 phik-0.12.0 requests-2.26.0 scipy-1.7.1 tangled-up-in-unicode-0.2.0 visions-0.7.1\n"
          ]
        },
        {
          "output_type": "stream",
          "name": "stderr",
          "text": [
            "/usr/local/lib/python3.7/dist-packages/statsmodels/tools/_testing.py:19: FutureWarning: pandas.util.testing is deprecated. Use the functions in the public API at pandas.testing instead.\n",
            "  import pandas.util.testing as tm\n"
          ]
        },
        {
          "output_type": "stream",
          "name": "stdout",
          "text": [
            "Collecting pdpbox\n",
            "  Downloading PDPbox-0.2.1.tar.gz (34.0 MB)\n",
            "\u001b[K     |████████████████████████████████| 34.0 MB 42 kB/s \n",
            "\u001b[?25hRequirement already satisfied: pandas in /usr/local/lib/python3.7/dist-packages (from pdpbox) (1.1.5)\n",
            "Requirement already satisfied: numpy in /usr/local/lib/python3.7/dist-packages (from pdpbox) (1.19.5)\n",
            "Requirement already satisfied: scipy in /usr/local/lib/python3.7/dist-packages (from pdpbox) (1.7.1)\n",
            "Requirement already satisfied: joblib in /usr/local/lib/python3.7/dist-packages (from pdpbox) (1.0.1)\n",
            "Requirement already satisfied: psutil in /usr/local/lib/python3.7/dist-packages (from pdpbox) (5.4.8)\n",
            "Collecting matplotlib==3.1.1\n",
            "  Downloading matplotlib-3.1.1-cp37-cp37m-manylinux1_x86_64.whl (13.1 MB)\n",
            "\u001b[K     |████████████████████████████████| 13.1 MB 6.9 kB/s \n",
            "\u001b[?25hRequirement already satisfied: sklearn in /usr/local/lib/python3.7/dist-packages (from pdpbox) (0.0)\n",
            "Requirement already satisfied: cycler>=0.10 in /usr/local/lib/python3.7/dist-packages (from matplotlib==3.1.1->pdpbox) (0.10.0)\n",
            "Requirement already satisfied: kiwisolver>=1.0.1 in /usr/local/lib/python3.7/dist-packages (from matplotlib==3.1.1->pdpbox) (1.3.2)\n",
            "Requirement already satisfied: pyparsing!=2.0.4,!=2.1.2,!=2.1.6,>=2.0.1 in /usr/local/lib/python3.7/dist-packages (from matplotlib==3.1.1->pdpbox) (2.4.7)\n",
            "Requirement already satisfied: python-dateutil>=2.1 in /usr/local/lib/python3.7/dist-packages (from matplotlib==3.1.1->pdpbox) (2.8.2)\n",
            "Requirement already satisfied: six in /usr/local/lib/python3.7/dist-packages (from cycler>=0.10->matplotlib==3.1.1->pdpbox) (1.15.0)\n",
            "Requirement already satisfied: pytz>=2017.2 in /usr/local/lib/python3.7/dist-packages (from pandas->pdpbox) (2018.9)\n",
            "Requirement already satisfied: scikit-learn in /usr/local/lib/python3.7/dist-packages (from sklearn->pdpbox) (0.22.2.post1)\n",
            "Building wheels for collected packages: pdpbox\n",
            "  Building wheel for pdpbox (setup.py) ... \u001b[?25l\u001b[?25hdone\n",
            "  Created wheel for pdpbox: filename=PDPbox-0.2.1-py3-none-any.whl size=35758225 sha256=625d8c62f8ab5cd923e49476dd12d1d54f54ce2dcf18e1cfe4c087a5846c5a24\n",
            "  Stored in directory: /root/.cache/pip/wheels/f4/d0/1a/b80035625c53131f52906a6fc4dd690d8efd2bf8af6a4015eb\n",
            "Successfully built pdpbox\n",
            "Installing collected packages: matplotlib, pdpbox\n",
            "  Attempting uninstall: matplotlib\n",
            "    Found existing installation: matplotlib 3.2.2\n",
            "    Uninstalling matplotlib-3.2.2:\n",
            "      Successfully uninstalled matplotlib-3.2.2\n",
            "\u001b[31mERROR: pip's dependency resolver does not currently take into account all the packages that are installed. This behaviour is the source of the following dependency conflicts.\n",
            "pandas-profiling 2.13.0 requires matplotlib>=3.2.0, but you have matplotlib 3.1.1 which is incompatible.\n",
            "albumentations 0.1.12 requires imgaug<0.2.7,>=0.2.5, but you have imgaug 0.2.9 which is incompatible.\u001b[0m\n",
            "Successfully installed matplotlib-3.1.1 pdpbox-0.2.1\n"
          ]
        },
        {
          "output_type": "display_data",
          "data": {
            "application/vnd.colab-display-data+json": {
              "pip_warning": {
                "packages": [
                  "matplotlib",
                  "mpl_toolkits"
                ]
              }
            }
          },
          "metadata": {}
        },
        {
          "output_type": "stream",
          "name": "stdout",
          "text": [
            "Collecting shap\n",
            "  Downloading shap-0.40.0.tar.gz (371 kB)\n",
            "\u001b[K     |████████████████████████████████| 371 kB 2.7 MB/s \n",
            "\u001b[?25h  Installing build dependencies ... \u001b[?25l\u001b[?25hdone\n",
            "  Getting requirements to build wheel ... \u001b[?25l\u001b[?25hdone\n",
            "    Preparing wheel metadata ... \u001b[?25l\u001b[?25hdone\n",
            "Requirement already satisfied: numpy in /usr/local/lib/python3.7/dist-packages (from shap) (1.19.5)\n",
            "Requirement already satisfied: pandas in /usr/local/lib/python3.7/dist-packages (from shap) (1.1.5)\n",
            "Requirement already satisfied: scipy in /usr/local/lib/python3.7/dist-packages (from shap) (1.7.1)\n",
            "Requirement already satisfied: cloudpickle in /usr/local/lib/python3.7/dist-packages (from shap) (1.3.0)\n",
            "Collecting slicer==0.0.7\n",
            "  Downloading slicer-0.0.7-py3-none-any.whl (14 kB)\n",
            "Requirement already satisfied: packaging>20.9 in /usr/local/lib/python3.7/dist-packages (from shap) (21.0)\n",
            "Requirement already satisfied: scikit-learn in /usr/local/lib/python3.7/dist-packages (from shap) (0.22.2.post1)\n",
            "Requirement already satisfied: tqdm>4.25.0 in /usr/local/lib/python3.7/dist-packages (from shap) (4.62.3)\n",
            "Requirement already satisfied: numba in /usr/local/lib/python3.7/dist-packages (from shap) (0.51.2)\n",
            "Requirement already satisfied: pyparsing>=2.0.2 in /usr/local/lib/python3.7/dist-packages (from packaging>20.9->shap) (2.4.7)\n",
            "Requirement already satisfied: setuptools in /usr/local/lib/python3.7/dist-packages (from numba->shap) (57.4.0)\n",
            "Requirement already satisfied: llvmlite<0.35,>=0.34.0.dev0 in /usr/local/lib/python3.7/dist-packages (from numba->shap) (0.34.0)\n",
            "Requirement already satisfied: python-dateutil>=2.7.3 in /usr/local/lib/python3.7/dist-packages (from pandas->shap) (2.8.2)\n",
            "Requirement already satisfied: pytz>=2017.2 in /usr/local/lib/python3.7/dist-packages (from pandas->shap) (2018.9)\n",
            "Requirement already satisfied: six>=1.5 in /usr/local/lib/python3.7/dist-packages (from python-dateutil>=2.7.3->pandas->shap) (1.15.0)\n",
            "Requirement already satisfied: joblib>=0.11 in /usr/local/lib/python3.7/dist-packages (from scikit-learn->shap) (1.0.1)\n",
            "Building wheels for collected packages: shap\n",
            "  Building wheel for shap (PEP 517) ... \u001b[?25l\u001b[?25hdone\n",
            "  Created wheel for shap: filename=shap-0.40.0-cp37-cp37m-linux_x86_64.whl size=509227 sha256=66d4025dfc6f5f491f58f4044088067feb7834a22dfbd3dedb6df48914d1b2e5\n",
            "  Stored in directory: /root/.cache/pip/wheels/ec/35/84/e304841ac4b910bc95fe9a6e5302eb2507b4333728851dcbfb\n",
            "Successfully built shap\n",
            "Installing collected packages: slicer, shap\n",
            "Successfully installed shap-0.40.0 slicer-0.0.7\n"
          ]
        }
      ]
    },
    {
      "cell_type": "code",
      "metadata": {
        "colab": {
          "base_uri": "https://localhost:8080/"
        },
        "id": "jl0oyKlHDZzm",
        "outputId": "7a230ec0-1253-4015-d797-639153e56399"
      },
      "source": [
        "from google.colab import drive\n",
        "\n",
        "drive.mount('/content/drive')"
      ],
      "execution_count": 2,
      "outputs": [
        {
          "output_type": "stream",
          "name": "stdout",
          "text": [
            "Mounted at /content/drive\n"
          ]
        }
      ]
    },
    {
      "cell_type": "code",
      "metadata": {
        "id": "nJ5aY9o5JGfM"
      },
      "source": [
        "read_red = '/content/drive/MyDrive/Unit 2 Sprint 3/WQ-red.csv'\n",
        "read_white = '/content/drive/MyDrive/Unit 2 Sprint 3/WQ-white.csv'\n",
        "\n",
        "def wrangle(fm_path, tv_path=None):\n",
        "    if tv_path:\n",
        "        df = pd.merge(pd.read_csv(fm_path, \n",
        "                                  na_values=[0, -2.000000e-08]),\n",
        "                      pd.read_csv(tv_path))\n",
        "    else:\n",
        "        df = pd.read_csv(fm_path, \n",
        "                         na_values=[0, -2.000000e-08],\n",
        "                         index_col='id')\n",
        "\n",
        "    return df\n"
      ],
      "execution_count": 48,
      "outputs": []
    },
    {
      "cell_type": "code",
      "metadata": {
        "colab": {
          "base_uri": "https://localhost:8080/",
          "height": 417
        },
        "id": "oIQHkp_ZJ1M-",
        "outputId": "65522919-a5fc-4e2a-bc46-c0d55c9b73fb"
      },
      "source": [
        "df = wrangle(fm_path=read_red, tv_path=read_white)\n",
        "\n",
        "df.sort_values(by='quality')"
      ],
      "execution_count": 49,
      "outputs": [
        {
          "output_type": "execute_result",
          "data": {
            "text/html": [
              "<div>\n",
              "<style scoped>\n",
              "    .dataframe tbody tr th:only-of-type {\n",
              "        vertical-align: middle;\n",
              "    }\n",
              "\n",
              "    .dataframe tbody tr th {\n",
              "        vertical-align: top;\n",
              "    }\n",
              "\n",
              "    .dataframe thead th {\n",
              "        text-align: right;\n",
              "    }\n",
              "</style>\n",
              "<table border=\"1\" class=\"dataframe\">\n",
              "  <thead>\n",
              "    <tr style=\"text-align: right;\">\n",
              "      <th></th>\n",
              "      <th>fixed acidity</th>\n",
              "      <th>volatile acidity</th>\n",
              "      <th>citric acid</th>\n",
              "      <th>residual sugar</th>\n",
              "      <th>chlorides</th>\n",
              "      <th>free sulfur dioxide</th>\n",
              "      <th>total sulfur dioxide</th>\n",
              "      <th>density</th>\n",
              "      <th>pH</th>\n",
              "      <th>sulphates</th>\n",
              "      <th>alcohol</th>\n",
              "      <th>quality</th>\n",
              "    </tr>\n",
              "  </thead>\n",
              "  <tbody>\n",
              "    <tr>\n",
              "      <th>7312</th>\n",
              "      <td>6.7</td>\n",
              "      <td>0.250</td>\n",
              "      <td>0.26</td>\n",
              "      <td>1.55</td>\n",
              "      <td>0.041</td>\n",
              "      <td>118.5</td>\n",
              "      <td>216.0</td>\n",
              "      <td>0.99490</td>\n",
              "      <td>3.55</td>\n",
              "      <td>0.63</td>\n",
              "      <td>9.4</td>\n",
              "      <td>3</td>\n",
              "    </tr>\n",
              "    <tr>\n",
              "      <th>7293</th>\n",
              "      <td>4.2</td>\n",
              "      <td>0.215</td>\n",
              "      <td>0.23</td>\n",
              "      <td>5.10</td>\n",
              "      <td>0.041</td>\n",
              "      <td>64.0</td>\n",
              "      <td>157.0</td>\n",
              "      <td>0.99688</td>\n",
              "      <td>3.42</td>\n",
              "      <td>0.44</td>\n",
              "      <td>8.0</td>\n",
              "      <td>3</td>\n",
              "    </tr>\n",
              "    <tr>\n",
              "      <th>7294</th>\n",
              "      <td>10.3</td>\n",
              "      <td>0.170</td>\n",
              "      <td>0.47</td>\n",
              "      <td>1.40</td>\n",
              "      <td>0.037</td>\n",
              "      <td>5.0</td>\n",
              "      <td>33.0</td>\n",
              "      <td>0.99390</td>\n",
              "      <td>2.89</td>\n",
              "      <td>0.28</td>\n",
              "      <td>9.6</td>\n",
              "      <td>3</td>\n",
              "    </tr>\n",
              "    <tr>\n",
              "      <th>7295</th>\n",
              "      <td>8.5</td>\n",
              "      <td>0.260</td>\n",
              "      <td>0.21</td>\n",
              "      <td>16.20</td>\n",
              "      <td>0.074</td>\n",
              "      <td>41.0</td>\n",
              "      <td>197.0</td>\n",
              "      <td>0.99800</td>\n",
              "      <td>3.02</td>\n",
              "      <td>0.50</td>\n",
              "      <td>9.8</td>\n",
              "      <td>3</td>\n",
              "    </tr>\n",
              "    <tr>\n",
              "      <th>7296</th>\n",
              "      <td>6.1</td>\n",
              "      <td>0.260</td>\n",
              "      <td>0.25</td>\n",
              "      <td>2.90</td>\n",
              "      <td>0.047</td>\n",
              "      <td>289.0</td>\n",
              "      <td>440.0</td>\n",
              "      <td>0.99314</td>\n",
              "      <td>3.44</td>\n",
              "      <td>0.64</td>\n",
              "      <td>10.5</td>\n",
              "      <td>3</td>\n",
              "    </tr>\n",
              "    <tr>\n",
              "      <th>...</th>\n",
              "      <td>...</td>\n",
              "      <td>...</td>\n",
              "      <td>...</td>\n",
              "      <td>...</td>\n",
              "      <td>...</td>\n",
              "      <td>...</td>\n",
              "      <td>...</td>\n",
              "      <td>...</td>\n",
              "      <td>...</td>\n",
              "      <td>...</td>\n",
              "      <td>...</td>\n",
              "      <td>...</td>\n",
              "    </tr>\n",
              "    <tr>\n",
              "      <th>4</th>\n",
              "      <td>9.1</td>\n",
              "      <td>0.270</td>\n",
              "      <td>0.45</td>\n",
              "      <td>10.60</td>\n",
              "      <td>0.035</td>\n",
              "      <td>28.0</td>\n",
              "      <td>124.0</td>\n",
              "      <td>0.99700</td>\n",
              "      <td>3.20</td>\n",
              "      <td>0.46</td>\n",
              "      <td>10.4</td>\n",
              "      <td>9</td>\n",
              "    </tr>\n",
              "    <tr>\n",
              "      <th>3</th>\n",
              "      <td>6.6</td>\n",
              "      <td>0.360</td>\n",
              "      <td>0.29</td>\n",
              "      <td>1.60</td>\n",
              "      <td>0.021</td>\n",
              "      <td>24.0</td>\n",
              "      <td>85.0</td>\n",
              "      <td>0.98965</td>\n",
              "      <td>3.41</td>\n",
              "      <td>0.61</td>\n",
              "      <td>12.4</td>\n",
              "      <td>9</td>\n",
              "    </tr>\n",
              "    <tr>\n",
              "      <th>2</th>\n",
              "      <td>7.4</td>\n",
              "      <td>0.240</td>\n",
              "      <td>0.36</td>\n",
              "      <td>2.00</td>\n",
              "      <td>0.031</td>\n",
              "      <td>27.0</td>\n",
              "      <td>139.0</td>\n",
              "      <td>0.99055</td>\n",
              "      <td>3.28</td>\n",
              "      <td>0.48</td>\n",
              "      <td>12.5</td>\n",
              "      <td>9</td>\n",
              "    </tr>\n",
              "    <tr>\n",
              "      <th>1</th>\n",
              "      <td>6.9</td>\n",
              "      <td>0.360</td>\n",
              "      <td>0.34</td>\n",
              "      <td>4.20</td>\n",
              "      <td>0.018</td>\n",
              "      <td>57.0</td>\n",
              "      <td>119.0</td>\n",
              "      <td>0.98980</td>\n",
              "      <td>3.28</td>\n",
              "      <td>0.36</td>\n",
              "      <td>12.7</td>\n",
              "      <td>9</td>\n",
              "    </tr>\n",
              "    <tr>\n",
              "      <th>0</th>\n",
              "      <td>7.1</td>\n",
              "      <td>0.260</td>\n",
              "      <td>0.49</td>\n",
              "      <td>2.20</td>\n",
              "      <td>0.032</td>\n",
              "      <td>31.0</td>\n",
              "      <td>113.0</td>\n",
              "      <td>0.99030</td>\n",
              "      <td>3.37</td>\n",
              "      <td>0.42</td>\n",
              "      <td>12.9</td>\n",
              "      <td>9</td>\n",
              "    </tr>\n",
              "  </tbody>\n",
              "</table>\n",
              "<p>7313 rows × 12 columns</p>\n",
              "</div>"
            ],
            "text/plain": [
              "      fixed acidity  volatile acidity  citric acid  ...  sulphates  alcohol  quality\n",
              "7312            6.7             0.250         0.26  ...       0.63      9.4        3\n",
              "7293            4.2             0.215         0.23  ...       0.44      8.0        3\n",
              "7294           10.3             0.170         0.47  ...       0.28      9.6        3\n",
              "7295            8.5             0.260         0.21  ...       0.50      9.8        3\n",
              "7296            6.1             0.260         0.25  ...       0.64     10.5        3\n",
              "...             ...               ...          ...  ...        ...      ...      ...\n",
              "4               9.1             0.270         0.45  ...       0.46     10.4        9\n",
              "3               6.6             0.360         0.29  ...       0.61     12.4        9\n",
              "2               7.4             0.240         0.36  ...       0.48     12.5        9\n",
              "1               6.9             0.360         0.34  ...       0.36     12.7        9\n",
              "0               7.1             0.260         0.49  ...       0.42     12.9        9\n",
              "\n",
              "[7313 rows x 12 columns]"
            ]
          },
          "metadata": {},
          "execution_count": 49
        }
      ]
    },
    {
      "cell_type": "markdown",
      "metadata": {
        "id": "ofzmXyuGIT1E"
      },
      "source": [
        "#####READ THIS BEFORE CONTINUING!\n",
        "Before you start running the rest of the code, I have separated the code I used for both regression and classification, as I had to make an entirely seperate train of code due to having used feature engineering for classification but not regression. \n",
        "\n",
        "If you want to look at my classification code, start from right here.\n",
        "\n",
        "If you want to look at my regression code, go to the bottom half of the notebook and start from there."
      ]
    },
    {
      "cell_type": "code",
      "metadata": {
        "id": "opgZdJ2zdDhI"
      },
      "source": [
        "#If we wanted to use this as a classification problem, we can say that we want to predict whether or not a wine will be great (7 or above)\n",
        "\n",
        "def func(val):\n",
        "  if (val > 7):\n",
        "    return 1\n",
        "  else:\n",
        "    return 0\n",
        "df['is_great'] = df['quality'].apply(func)\n",
        "#Drop the quality column to prevent data leakage\n",
        "df = df.drop(columns='quality')\n",
        "#Select the x and y variables to be used in the model\n",
        "x=df.drop(columns='is_great')\n",
        "y=df['is_great']\n"
      ],
      "execution_count": 50,
      "outputs": []
    },
    {
      "cell_type": "code",
      "metadata": {
        "id": "Z2vLNKGBJ7IV"
      },
      "source": [
        "#split the data for training and testing\n",
        "\n",
        "x_train,x_test,y_train,y_test = train_test_split(x,y,random_state=7,test_size=.3)"
      ],
      "execution_count": 51,
      "outputs": []
    },
    {
      "cell_type": "code",
      "metadata": {
        "colab": {
          "base_uri": "https://localhost:8080/"
        },
        "id": "QDNN_h3AD6k4",
        "outputId": "0e3449a6-9b47-4d21-fd83-82d2936f94a1"
      },
      "source": [
        "#Make the classification models\n",
        "model_dt = make_pipeline(\n",
        "    OneHotEncoder(),\n",
        "    StandardScaler(),\n",
        "    DecisionTreeClassifier(random_state=7)\n",
        ")\n",
        "model_dt.fit(x_train, y_train)\n",
        "\n",
        "model_rf = make_pipeline(\n",
        "    OneHotEncoder(),\n",
        "    StandardScaler(),\n",
        "    RandomForestClassifier(random_state=7)\n",
        ")\n",
        "model_rf.fit(x_train,y_train)"
      ],
      "execution_count": 52,
      "outputs": [
        {
          "output_type": "execute_result",
          "data": {
            "text/plain": [
              "Pipeline(memory=None,\n",
              "         steps=[('onehotencoder',\n",
              "                 OneHotEncoder(cols=[], drop_invariant=False,\n",
              "                               handle_missing='value', handle_unknown='value',\n",
              "                               return_df=True, use_cat_names=False,\n",
              "                               verbose=0)),\n",
              "                ('standardscaler',\n",
              "                 StandardScaler(copy=True, with_mean=True, with_std=True)),\n",
              "                ('randomforestclassifier',\n",
              "                 RandomForestClassifier(bootstrap=True, ccp_alpha=0.0,\n",
              "                                        class_weight=None, criterion='gini',\n",
              "                                        max_depth=None, max_features='auto',\n",
              "                                        max_leaf_nodes=None, max_samples=None,\n",
              "                                        min_impurity_decrease=0.0,\n",
              "                                        min_impurity_split=None,\n",
              "                                        min_samples_leaf=1, min_samples_split=2,\n",
              "                                        min_weight_fraction_leaf=0.0,\n",
              "                                        n_estimators=100, n_jobs=None,\n",
              "                                        oob_score=False, random_state=7,\n",
              "                                        verbose=0, warm_start=False))],\n",
              "         verbose=False)"
            ]
          },
          "metadata": {},
          "execution_count": 52
        }
      ]
    },
    {
      "cell_type": "code",
      "metadata": {
        "colab": {
          "base_uri": "https://localhost:8080/"
        },
        "id": "KlQcYDxXvqrE",
        "outputId": "7b9db8cd-72d6-49ab-a0f5-f0ecec2aaafd"
      },
      "source": [
        "#Compare the Accuracy of the two models used thus far\n",
        "training_acc_dt = model_dt.score(x_train,y_train)\n",
        "test_acc_dt = model_dt.score(x_test,y_test)\n",
        "\n",
        "print('Training Accuracy Score for Decision Tree:', training_acc_dt)\n",
        "print('Testing Accuracy Score for Decision Tree:', test_acc_dt)\n",
        "\n",
        "training_acc_rf = model_rf.score(x_train,y_train)\n",
        "test_acc_rf = model_rf.score(x_test,y_test)\n",
        "\n",
        "print('Training Accuracy Score for Random Forest:', training_acc_rf)\n",
        "print('Testing Accuracy Score for Random Forest:', test_acc_rf)\n"
      ],
      "execution_count": 53,
      "outputs": [
        {
          "output_type": "stream",
          "name": "stdout",
          "text": [
            "Training Accuracy Score for Decision Tree: 1.0\n",
            "Testing Accuracy Score for Decision Tree: 0.9703737465815861\n",
            "Training Accuracy Score for Random Forest: 1.0\n",
            "Testing Accuracy Score for Random Forest: 0.9858705560619873\n"
          ]
        }
      ]
    },
    {
      "cell_type": "code",
      "metadata": {
        "colab": {
          "base_uri": "https://localhost:8080/",
          "height": 366
        },
        "id": "kZVD7JG23GdM",
        "outputId": "ac695df1-2885-4d8a-b3f0-87d23f7b0053"
      },
      "source": [
        "#XGBClassification model\n",
        "\n",
        "from sklearn.metrics import r2_score\n",
        "from xgboost import XGBClassifier\n",
        "\n",
        "model_xgb = make_pipeline(\n",
        "    OrdinalEncoder(), \n",
        "    XGBClassifier(n_estimators=200, objective='reg:squarederror', n_jobs=-1)\n",
        ")\n",
        "\n",
        "model_xgb.fit(x_train, y_train)\n",
        "y_pred_c = model_xgb.predict(x_test)\n",
        "print('Gradient Boosting R^2', r2_score(y_test, y_pred_c))\n",
        "\n",
        "pd.Series(gb.named_steps['xgbclassifier'].feature_importances_, index=x_test.columns).plot(kind='bar');\n"
      ],
      "execution_count": 54,
      "outputs": [
        {
          "output_type": "stream",
          "name": "stdout",
          "text": [
            "Gradient Boosting R^2 0.47147864647090365\n"
          ]
        },
        {
          "output_type": "display_data",
          "data": {
            "image/png": "[encoded data removed]",
            "text/plain": [
              "<Figure size 432x288 with 1 Axes>"
            ]
          },
          "metadata": {
            "needs_background": "light"
          }
        }
      ]
    },
    {
      "cell_type": "code",
      "metadata": {
        "colab": {
          "base_uri": "https://localhost:8080/"
        },
        "id": "3rKeVAgg3MWX",
        "outputId": "564867d2-de5a-482a-ab3c-e1deacdd53c2"
      },
      "source": [
        "print('Gradient Boost Training Accuracy', model_xgb.score(x_train, y_train))\n",
        "print('Gradient Boost Testing Accuracy', model_xgb.score(x_test, y_test))"
      ],
      "execution_count": 55,
      "outputs": [
        {
          "output_type": "stream",
          "name": "stdout",
          "text": [
            "Gradient Boost Training Accuracy 0.9812463371752296\n",
            "Gradient Boost Testing Accuracy 0.9776663628076573\n"
          ]
        }
      ]
    },
    {
      "cell_type": "markdown",
      "metadata": {
        "id": "iTGOueHZMVc7"
      },
      "source": [
        "###START OF REGRESSION TESTING"
      ]
    },
    {
      "cell_type": "code",
      "metadata": {
        "id": "JjISDpNlcScs",
        "colab": {
          "base_uri": "https://localhost:8080/"
        },
        "outputId": "a0c0ccf4-9ee3-4018-b7da-bbc1fdb3be34"
      },
      "source": [
        "from sklearn.metrics import mean_absolute_error as mae\n",
        "df = wrangle(fm_path=read_red, tv_path=read_white)\n",
        "\n",
        "y = df['quality']\n",
        "x  =df.drop(columns='quality')\n",
        "\n",
        "x_train,x_test,y_train,y_test = train_test_split(x,y,random_state=7,test_size=.3)\n",
        "\n",
        "#Make the Regression Models.\n",
        "\n",
        "model_lnr = make_pipeline(\n",
        "OrdinalEncoder(),\n",
        "    StandardScaler(),\n",
        "    LinearRegression(n_jobs=-1)\n",
        ")\n",
        "model_lnr.fit(x_train,y_train)\n",
        "\n",
        "model_R= make_pipeline(\n",
        "    OrdinalEncoder(),\n",
        "    StandardScaler(),\n",
        "Ridge(random_state=7)\n",
        ")\n",
        "model_R.fit(x_train,y_train)\n",
        "\n",
        "#Assign the predictions to be used in obtaining the MAE\n",
        "y_pred_lnr = model_lnr.predict(x_train)\n",
        "y_pred_R = model_R.predict(x_test)\n",
        "\n",
        "#Compare the MAE of both Regression Models\n",
        "training_acc_R = mae(y_test,y_pred_R)\n",
        "test_acc_R = mae(y_test,y_pred_R)\n",
        "\n",
        "print('Training MAE for Ridge Regression:', training_acc_R)\n",
        "print('Testing MAE for Ridge Regression:', test_acc_R)\n",
        "\n",
        "training_acc_lnr = mae(y_train,model_lnr.predict(x_train))\n",
        "test_acc_lnr = mae(y_test,model_lnr.predict(x_test))\n",
        "\n",
        "\n",
        "print('Training MAE for  Linear Regression:', training_acc_lnr)\n",
        "print('Testing MAE for Linear Regression:', test_acc_lnr)\n",
        "\n"
      ],
      "execution_count": 56,
      "outputs": [
        {
          "output_type": "stream",
          "name": "stdout",
          "text": [
            "Training MAE for Ridge Regression: 0.6137288096365568\n",
            "Testing MAE for Ridge Regression: 0.6137288096365568\n",
            "Training MAE for  Linear Regression: 0.6077184321654148\n",
            "Testing MAE for Linear Regression: 0.6137122807541567\n"
          ]
        }
      ]
    },
    {
      "cell_type": "code",
      "metadata": {
        "colab": {
          "base_uri": "https://localhost:8080/",
          "height": 399
        },
        "id": "u1JCZo5ENrvr",
        "outputId": "eaa2004a-77a4-4e6a-a71a-3292717356d0"
      },
      "source": [
        "#Trying out XGB regression\n",
        "from sklearn.metrics import r2_score\n",
        "from xgboost import XGBRegressor\n",
        "\n",
        "model_xgb = make_pipeline(\n",
        "    OrdinalEncoder(), \n",
        "    XGBRegressor(n_estimators=200, objective='reg:squarederror', n_jobs=-1)\n",
        ")\n",
        "\n",
        "model_xgb.fit(x_train, y_train)\n",
        "y_pred = model_xgb.predict(x_test)\n",
        "print('Gradient Boosting R^2', r2_score(y_test, y_pred))\n",
        "\n",
        "print('Gradient Boost Training Accuracy', model_xgb.score(x_train, y_train))\n",
        "print('Gradient Boost Testing Accuracy', model_xgb.score(x_test, y_test))\n",
        "\n",
        "\n",
        "pd.Series(model_xgb.named_steps['xgbregressor'].feature_importances_, index=x_test.columns).plot(kind='bar');"
      ],
      "execution_count": 61,
      "outputs": [
        {
          "output_type": "stream",
          "name": "stdout",
          "text": [
            "Gradient Boosting R^2 0.5299762628963487\n",
            "Gradient Boost Training Accuracy 0.6202860413090933\n",
            "Gradient Boost Testing Accuracy 0.5299762628963487\n"
          ]
        },
        {
          "output_type": "display_data",
          "data": {
            "image/png": "[encoded data removed]",
            "text/plain": [
              "<Figure size 432x288 with 1 Axes>"
            ]
          },
          "metadata": {
            "needs_background": "light"
          }
        }
      ]
    },
    {
      "cell_type": "markdown",
      "metadata": {
        "id": "9f0ulizAqBO5"
      },
      "source": [
        "### Module Project 1 Questions and Answers\n",
        "\n",
        "Choose your target. Which column in your tabular dataset will you predict?\n",
        "\n",
        "Is your problem regression or classification?\n",
        "This is a regression problem.\n",
        "How is your target distributed?\n",
        "The target is uniformly distributed.\n",
        "Choose your evaluation metric(s).\n",
        "\n",
        "Regression:I will evaluate the model using Linear Regression, Ridge Regression, and Logistic Regression, then see which one is the best of the three.\n",
        "\n",
        "Classification: I will feature engineer a new columns called \"is Great\", which is binarily classified. Great wines will be wines with a quality value of 7 or above, while not great wines will be of quality value 6 or below.\n",
        "\n",
        "Choose which observations you will use to train, validate, and test your model.\n",
        "Are some observations outliers? Will you exclude them?\n",
        "\n",
        "There are no outliers for this dataset, as the only thing that could be considered an outlier based on the Quality column would be high and low quality wines. However, due to the fact that they are necessary when determining the quality of wine, they aren't considered outliers.\n",
        "\n",
        "Will you do a random split or a time-based split?\n",
        "I will use a random split, as there is no time frame involved in this dataset.\n",
        "Begin to clean and explore your data.\n",
        "Begin to choose which features, if any, to exclude. Would some features \"leak\" future information?\n",
        "So far as I can tell at this point, there doesn't seem to be any leakage from the dataset or from specific features in the dataset, nor are there any null values. There doesn't seem to be any features that should be excluded."
      ]
    }
  ]
}